{
 "cells": [
  {
   "cell_type": "markdown",
   "id": "c8a7dd81",
   "metadata": {},
   "source": [
    "# Normalization Problem\n"
   ]
  },
  {
   "cell_type": "code",
   "execution_count": 1,
   "id": "fe6b9711",
   "metadata": {},
   "outputs": [],
   "source": [
    "import numpy as np\n"
   ]
  },
  {
   "cell_type": "code",
   "execution_count": 2,
   "id": "c354d5e6",
   "metadata": {},
   "outputs": [
    {
     "name": "stdout",
     "output_type": "stream",
     "text": [
      "[[0.8798484  0.82578668 0.10472843 0.00481861 0.82866613]\n",
      " [0.17055809 0.9060609  0.83505638 0.84722332 0.27760308]\n",
      " [0.18598025 0.12884063 0.22538303 0.33900306 0.15425237]\n",
      " [0.6896408  0.34515787 0.07297141 0.71731625 0.57102672]\n",
      " [0.47325539 0.29993029 0.91306855 0.81814316 0.09427812]]\n"
     ]
    }
   ],
   "source": [
    "x = np.random.random((5,5))\n",
    "print (x)"
   ]
  },
  {
   "cell_type": "code",
   "execution_count": 7,
   "id": "5e988add",
   "metadata": {},
   "outputs": [
    {
     "name": "stdout",
     "output_type": "stream",
     "text": [
      "[[-0.59543055 -0.64949227 -1.37055052 -1.47046033 -0.64661281]\n",
      " [-1.30472086 -0.56921804 -0.64022256 -0.62805563 -1.19767587]\n",
      " [-1.28929869 -1.34643832 -1.24989591 -1.13627588 -1.32102657]\n",
      " [-0.78563814 -1.13012108 -1.40230753 -0.7579627  -0.90425222]\n",
      " [-1.00202355 -1.17534865 -0.56221039 -0.65713579 -1.38100082]]\n"
     ]
    },
    {
     "data": {
      "text/plain": [
       "array([[-0.59543055, -0.64949227, -1.37055052, -1.47046033, -0.64661281],\n",
       "       [-1.30472086, -0.56921804, -0.64022256, -0.62805563, -1.19767587],\n",
       "       [-1.28929869, -1.34643832, -1.24989591, -1.13627588, -1.32102657],\n",
       "       [-0.78563814, -1.13012108, -1.40230753, -0.7579627 , -0.90425222],\n",
       "       [-1.00202355, -1.17534865, -0.56221039, -0.65713579, -1.38100082]])"
      ]
     },
     "execution_count": 7,
     "metadata": {},
     "output_type": "execute_result"
    }
   ],
   "source": [
    "xmean = np.mean(x)\n",
    "xstd = np.std(x)\n",
    "z = (x-xmean/xstd)\n",
    "print(z)\n",
    "\n",
    "np.save(\"X_normalized.npy\", z)\n",
    "np.load(\"X_normalized.npy\")"
   ]
  },
  {
   "cell_type": "markdown",
   "id": "0d954cd3",
   "metadata": {},
   "source": [
    "# Divisible by 3 Problem\n"
   ]
  },
  {
   "cell_type": "code",
   "execution_count": 8,
   "id": "759f20de",
   "metadata": {},
   "outputs": [
    {
     "name": "stdout",
     "output_type": "stream",
     "text": [
      "[  1   2   3   4   5   6   7   8   9  10  11  12  13  14  15  16  17  18\n",
      "  19  20  21  22  23  24  25  26  27  28  29  30  31  32  33  34  35  36\n",
      "  37  38  39  40  41  42  43  44  45  46  47  48  49  50  51  52  53  54\n",
      "  55  56  57  58  59  60  61  62  63  64  65  66  67  68  69  70  71  72\n",
      "  73  74  75  76  77  78  79  80  81  82  83  84  85  86  87  88  89  90\n",
      "  91  92  93  94  95  96  97  98  99 100]\n"
     ]
    }
   ],
   "source": [
    "array = np.arange(1, 101)\n",
    "print(array)"
   ]
  },
  {
   "cell_type": "code",
   "execution_count": 9,
   "id": "4e587996",
   "metadata": {},
   "outputs": [
    {
     "name": "stdout",
     "output_type": "stream",
     "text": [
      "[[    1     4     9    16    25    36    49    64    81   100]\n",
      " [  121   144   169   196   225   256   289   324   361   400]\n",
      " [  441   484   529   576   625   676   729   784   841   900]\n",
      " [  961  1024  1089  1156  1225  1296  1369  1444  1521  1600]\n",
      " [ 1681  1764  1849  1936  2025  2116  2209  2304  2401  2500]\n",
      " [ 2601  2704  2809  2916  3025  3136  3249  3364  3481  3600]\n",
      " [ 3721  3844  3969  4096  4225  4356  4489  4624  4761  4900]\n",
      " [ 5041  5184  5329  5476  5625  5776  5929  6084  6241  6400]\n",
      " [ 6561  6724  6889  7056  7225  7396  7569  7744  7921  8100]\n",
      " [ 8281  8464  8649  8836  9025  9216  9409  9604  9801 10000]]\n"
     ]
    }
   ],
   "source": [
    "x = array ** 2\n",
    "d3 = x.reshape(10, 10)\n",
    "print(d3)"
   ]
  },
  {
   "cell_type": "code",
   "execution_count": 11,
   "id": "dd0ed92b",
   "metadata": {},
   "outputs": [
    {
     "name": "stdout",
     "output_type": "stream",
     "text": [
      "[   9   36   81  144  225  324  441  576  729  900 1089 1296 1521 1764\n",
      " 2025 2304 2601 2916 3249 3600 3969 4356 4761 5184 5625 6084 6561 7056\n",
      " 7569 8100 8649 9216 9801]\n"
     ]
    },
    {
     "data": {
      "text/plain": [
       "array([   9,   36,   81,  144,  225,  324,  441,  576,  729,  900, 1089,\n",
       "       1296, 1521, 1764, 2025, 2304, 2601, 2916, 3249, 3600, 3969, 4356,\n",
       "       4761, 5184, 5625, 6084, 6561, 7056, 7569, 8100, 8649, 9216, 9801])"
      ]
     },
     "execution_count": 11,
     "metadata": {},
     "output_type": "execute_result"
    }
   ],
   "source": [
    "div3 = x[x%3==0]\n",
    "print(div3)\n",
    "\n",
    "np.save(\"div_by_3.npy\", div3)\n",
    "np.load(\"div_by_3.npy\")"
   ]
  },
  {
   "cell_type": "code",
   "execution_count": null,
   "id": "17b8d4c8",
   "metadata": {},
   "outputs": [],
   "source": []
  }
 ],
 "metadata": {
  "kernelspec": {
   "display_name": "Python 3 (ipykernel)",
   "language": "python",
   "name": "python3"
  },
  "language_info": {
   "codemirror_mode": {
    "name": "ipython",
    "version": 3
   },
   "file_extension": ".py",
   "mimetype": "text/x-python",
   "name": "python",
   "nbconvert_exporter": "python",
   "pygments_lexer": "ipython3",
   "version": "3.11.4"
  }
 },
 "nbformat": 4,
 "nbformat_minor": 5
}
